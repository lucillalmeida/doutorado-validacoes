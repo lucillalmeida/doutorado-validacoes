{
 "cells": [
  {
   "cell_type": "code",
   "execution_count": 1,
   "metadata": {
    "collapsed": true
   },
   "outputs": [],
   "source": [
    "import numpy as np\n",
    "from matplotlib import pyplot as plt"
   ]
  },
  {
   "cell_type": "code",
   "execution_count": 19,
   "metadata": {},
   "outputs": [],
   "source": [
    "k_values = [1.0, 2.5, 10.0, 18.18, 100.0] # thermal conductivity values\n",
    "results = dict()\n",
    "for k in k_values:\n",
    "    filename = \"improved-k{:.2f}-eulerian-data.csv\".format(k)\n",
    "    file = open(filename, mode='r')\n",
    "    data = file.read()\n",
    "    file.close()\n",
    "    \n",
    "    number_timesteps = data.count('time (s) =')\n",
    "    block_size = (data.count('\\n') - 1) // number_timesteps\n",
    "    data = data.split('\\n')\n",
    "\n",
    "    file = open(filename, mode='r')\n",
    "    # Read the first line just to eliminate it (header of the file).\n",
    "    file.readline()\n",
    "    \n",
    "    # Initialize the arrays for the time steps\n",
    "    temperature = np.zeros((number_timesteps, block_size - 1), dtype=np.float64)\n",
    "    time = np.zeros((number_timesteps), dtype=np.float64)\n",
    "    y = None\n",
    "    \n",
    "    for step in range(number_timesteps):\n",
    "        time[step] = float(file.readline().split('=')[1])\n",
    "        block = file.readlines(block_size * 50)\n",
    "        y, temperature[step] = np.loadtxt(block, dtype=np.float64, delimiter=',', usecols=(1, 3), unpack=True)\n",
    "            \n",
    "    results[k] = [time, temperature, y]\n",
    "    file.close()"
   ]
  },
  {
   "cell_type": "code",
   "execution_count": 23,
   "metadata": {},
   "outputs": [
    {
     "name": "stdout",
     "output_type": "stream",
     "text": [
      "[ 0.    0.01  0.02  0.03  0.04  0.05  0.06  0.07  0.08  0.09  0.1   0.11\n",
      "  0.12  0.13  0.14  0.15  0.16  0.17  0.18  0.19  0.2   0.21  0.22  0.23\n",
      "  0.24  0.25  0.26  0.27  0.28  0.29  0.3   0.31  0.32  0.33  0.34  0.35\n",
      "  0.36  0.37  0.38  0.39  0.4   0.41  0.42  0.43  0.44  0.45  0.46  0.47\n",
      "  0.48  0.49  0.5   0.51  0.52  0.53  0.54  0.55  0.56  0.57  0.58  0.59\n",
      "  0.6   0.61  0.62  0.63  0.64  0.65  0.66  0.67  0.68  0.69  0.7   0.71\n",
      "  0.72  0.73  0.74  0.75  0.76  0.77  0.78  0.79  0.8   0.81  0.82  0.83\n",
      "  0.84  0.85  0.86  0.87  0.88  0.89  0.9   0.91  0.92  0.93  0.94  0.95\n",
      "  0.96  0.97  0.98  0.99  1.    1.01  1.02  1.03  1.04  1.05  1.06  1.07\n",
      "  1.08  1.09  1.1   1.11  1.12  1.13  1.14  1.15  1.16  1.17  1.18  1.19\n",
      "  1.2   1.21  1.22  1.23  1.24  1.25  1.26  1.27  1.28  1.29  1.3   1.31\n",
      "  1.32  1.33  1.34  1.35  1.36  1.37  1.38  1.39  1.4   1.41  1.42  1.43\n",
      "  1.44  1.45  1.46  1.47  1.48  1.49  1.5   1.51  1.52  1.53  1.54  1.55\n",
      "  1.56  1.57  1.58  1.59  1.6   1.61  1.62  1.63  1.64  1.65  1.66  1.67\n",
      "  1.68  1.69  1.7   1.71  1.72  1.73  1.74  1.75  1.76  1.77  1.78]\n"
     ]
    }
   ],
   "source": [
    "print(results[18.18][0])"
   ]
  },
  {
   "cell_type": "code",
   "execution_count": null,
   "metadata": {
    "collapsed": true
   },
   "outputs": [],
   "source": []
  }
 ],
 "metadata": {
  "kernelspec": {
   "display_name": "Python 3",
   "language": "python",
   "name": "python3"
  },
  "language_info": {
   "codemirror_mode": {
    "name": "ipython",
    "version": 3
   },
   "file_extension": ".py",
   "mimetype": "text/x-python",
   "name": "python",
   "nbconvert_exporter": "python",
   "pygments_lexer": "ipython3",
   "version": "3.6.1"
  }
 },
 "nbformat": 4,
 "nbformat_minor": 2
}
