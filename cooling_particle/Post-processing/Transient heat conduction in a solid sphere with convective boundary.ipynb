{
 "cells": [
  {
   "cell_type": "markdown",
   "metadata": {},
   "source": [
    "## Transient heat conduction in a solid sphere with convective boundary"
   ]
  },
  {
   "cell_type": "markdown",
   "metadata": {},
   "source": [
    "Based on Ozisik (2012)\n",
    "A solid sphere of radius $b$ is initially at temperature $F(r)$. \n",
    "For $t >0$, the boundary condition at $r = b$ dissipates heat by convection, with convection coefficient $h$ into a fluid at zero temperature.\n",
    "\n",
    "The mathematical formulation is \n",
    "\n",
    "\\begin{matrix}\n",
    "\\frac{\\partial^2 T}{\\partial r^2} + \\frac{2}{r}\\frac{\\partial T}{\\partial r} = \\frac{1}{\\alpha} \\frac{\\partial T}{\\partial t}  & \\text{in} & 0\\leq r\\leq b & t>0\n",
    "\\end{matrix}\n",
    "\n",
    "\n",
    "\\begin{matrix}\n",
    "BC1: T(r\\rightarrow 0) \\Rightarrow finite \\\\\n",
    "BC2: -k \\left. \\frac{\\partial T}{\\partial r} \\right|_{r=b} = h \\left.T \\right|_{r=b} \\\\\n",
    "IC: T(t=0) = F(r)\n",
    "\\end{matrix}\n",
    "\n",
    "The equation 1 can be written as \n",
    "\n",
    "$$ \\frac{1}{r}\\frac{\\partial }{\\partial r^2} \\left( rT \\right)= \\frac{1}{\\alpha} \\frac{\\partial T}{\\partial t} $$\n",
    "\n",
    "Introducing a new dependent variable $U(r,T)$, given that\n",
    "\n",
    "$$ U(r,t) = rT(r,t)$$ \n",
    "the equation is now\n",
    "$$ \\frac{\\partial^2 U }{\\partial r^2} \\left( rT \\right)= \\frac{1}{\\alpha} \\frac{\\partial U}{\\partial t} $$\n",
    "\n",
    "In order to transform the boundary conditions, we consider a change of dependent variable for the spatial derivative of T:\n",
    "\n",
    "$$  \\frac{\\partial T}{\\partial t} =  \\frac{\\partial}{\\partial r} \\left(\\frac{U}{r} \\right) = \\frac{1}{r}\\frac{\\partial U}{\\partial r} - \\frac{1}{r^2} U  $$\n",
    "\n",
    "As the result, an additional term, $\\frac{1}{r^2} U$, is added to each derivative term in a boundary condition; hence both insulated and convective boundary conditions each obtain an additional term. One must also consider the condition of finiteness as $(r\\rightarrow 0$, which now takes the form\n",
    "$$ \n",
    "T(r\\rightarrow 0) \\Rightarrow finite  ⇒ \\lim_{r\\rightarrow 0} \\frac{U(r)}{r}\n",
    "$$\n",
    "which is only finite for the expected trigonometric functions if the numerator is zero in the limit, which then enables the application of L’Hˆopital’s rule. Thus finiteness at the origin requires $U(r = 0) = 0$.\n",
    "\n",
    "Reformulating the problem and its boundary conditions:\n",
    "\n",
    "\\begin{matrix}\n",
    "\\frac{\\partial^2 U }{\\partial r^2} = \\frac{1}{\\alpha} \\frac{\\partial U}{\\partial t}  & \\text{in} & 0\\leq r\\leq b & t>0\n",
    "\\end{matrix}\n",
    "\n",
    "\\begin{matrix}\n",
    "BC1: U(r = 0) = 0 \\\\\n",
    "BC2: \\left. \\frac{\\partial U}{\\partial r} \\right|_{r=b}  + \\left( \\frac{h}{k} -  \\frac{1}{b} \\right)  \\left.U \\right|_{r=b}  = 0\\\\\n",
    "IC: U(t=0) = r F(r)\n",
    "\\end{matrix}\n",
    "\n",
    "For convenience, we will introduce the constant $K = \\left( \\frac{h}{k} -  \\frac{1}{b} \\right) $ intoprevious. With the successful transformation and with all homogeneous boundary conditions, we are now ready to proceed with separation of the form\n",
    "\n",
    "$$ U(r,t) = R(r) \\Gamma (t) $$\n",
    "which leads to\n",
    "$$\n",
    "\\frac{1}{R}\\frac{d^2 R }{d r^2} = \\frac{1}{\\alpha \\Gamma} \\frac{d \\Gamma}{d t} = \\ \\lambda^2\n",
    "$$\n",
    "Solution of separated ODE in the t dimension yields\n",
    "$$ \\Gamma (t) = C_1 e^{-\\alpha \\lambda^2 t}$$\n",
    "\n",
    "while solution of the separated ODE in the r dimension gives\n",
    "$$ R(r) = C_2 cos \\lambda r + C_3 sin \\lambda r$$\n",
    "\n",
    "Boundary condition BC1 yields $C_2 = 0$, while BC2 yields the following transcendental equation\n",
    "\n",
    "\\begin{matrix} \n",
    "\\lambda_n cot \\lambda_n b = -K & \\rightarrow & \\lambda_n & \\text{for} & n=1,2,3...\n",
    "\\end{matrix}\n",
    "\n",
    "The transcendental equation may be recast in the form $b \\lambda_n  cot \\lambda_n b + bK =0 $, which has all real roots if $bK >−1$, and noting that $\\lambda_n  = 0$ is an eigenvalue only for the special case of $bK = −1$. \n",
    "When the value of $K$ as defined above is introduced into the inequality $bK >−1$, we find the necessary condition for all\n",
    "real roots given as $bh/k >0$ (i.e., $Bi >0$). This result is satisfied with the physical requirements of a positive radius, convection coefficient, and thermal conductivity.\n",
    "\n",
    "We now sum over all possible solutions, yielding the general solution\n",
    "\n",
    "$$ U(r,t) = \\sum_{n=1}^\\infty C_n sin(\\lambda_n r)e^{-\\alpha \\lambda^2_n t}$$\n",
    "\n",
    "with $C_n = C_1 C_3 $. The initial condition is now applied, yielding\n",
    "\n",
    "$$ U(t=0) = r F(r) = \\sum_{n=1}^\\infty C_n sin(\\lambda_n r) $$\n",
    "\n",
    "We solve for the Fourier coefficients by applying the operator\n",
    "\n",
    "$$\\ast\\int_{r=0}^b sin \\left( \\lambda_q r\\right) dr $$\n",
    "\n",
    "which yields the result\n",
    "\n",
    "$$ C_n = \\frac{\\int_{r=0}^b r F(r) sin \\left( \\lambda_n r\\right) dr }{\\int_{r=0}^b sin^2 \\left( \\lambda_n r\\right) dr}$$\n",
    "\n",
    "The denominator is the norm $N(\\lambda_n)$ and may be simplified with the replacement of $H_2$ with $K$. We finally transform the problem back to $T(r,t )$, yielding the result\n",
    "\n",
    "$$ T(r,t) = \\frac{U(r,t)}{r} = \\sum_{n=1}^\\infty C_n \\frac{sin(\\lambda_n r)}{r} e^{-\\alpha \\lambda^2_n t}$$\n",
    "\n",
    "We know that the limit as $r \\rightarrow 0$ exists and is finite per L’Hˆopital’s rule. In fact, in this limit, the temperature at the center of the sphere becomes\n",
    "\n",
    "$$ T(r=0,t) =  \\sum_{n=1}^\\infty C_n \\lambda_n e^{-\\alpha \\lambda^2_n t}$$\n",
    "\n",
    "The steady-state solution for the entire sphere is simply $T = 0$."
   ]
  },
  {
   "cell_type": "code",
   "execution_count": 5,
   "metadata": {},
   "outputs": [
    {
     "name": "stdout",
     "output_type": "stream",
     "text": [
      "1.0\n",
      "2.0\n"
     ]
    }
   ],
   "source": [
    "radius = 1.0\n",
    "b= radius\n",
    "h = 2.0\n",
    "k=1.0\n",
    "Tm = 0\n",
    "Biot = h*radius/k\n",
    "K = (h/k - 1/b)\n",
    "print(K)\n",
    "print(Biot)"
   ]
  },
  {
   "cell_type": "code",
   "execution_count": 83,
   "metadata": {},
   "outputs": [
    {
     "name": "stdout",
     "output_type": "stream",
     "text": [
      "[-2.0287578381104341, -2.028757838110236, 2.0287578381104185, 2.0287578381104341, 4.9131804394348828, 4.9131804394345435, 4.9131804394348837, 7.9786657124135001, 7.978665712413247, 7.9786657124132407, 11.085538406497022, 11.085538406497022, 11.085538406497246, 11.0855384064975, 14.207436725191188, 14.207436725191188, 14.207436725191188, 17.336377923983356, 17.33637792398337, 17.33637792398336, 20.469167402740414, 20.46916740274095, 20.469167402740954, 23.604284772980371, 23.604284772980407, 23.604284772980407, 26.74091601478731, 26.740916014786006, 26.74091601478731, 29.878586506107379, 29.878586506107393, 29.878586506107393, 33.01700103335709, 33.017001033357218, 33.017001033357253, 33.017001033357253, 36.155966419536718, 36.155966419536718, 36.155966419540306, 39.295350981472986, 39.295350981472993, 39.295350981472986, 42.435061881407208, 42.435061881409887, 42.435061881409887, 45.575031795590021, 45.575031795590021, 45.575031795590426, 48.715210717557724, 48.715210717556943, 48.715210717557724, 51.855560729151961, 51.855560729151968, 51.855560729153574, 54.9960525574961, 54.996052557496391, 54.996052557496391, 54.996052557496398, 58.136663244895544, 58.136663244899161, 58.136663244901094, 61.277374533569656, 61.277374533569663, 61.277374533574232, 64.418171721837695, 64.418171721839158, 64.418171721839158, 67.559042838808395, 67.559042838808395, 67.55904283880858, 70.699978038609999, 70.6999780386097, 70.699978038609999, 73.840969149020907, 73.840969149020907, 73.840969149021817, 76.982009330403741, 76.98200933041872, 76.98200933041872, 76.982009330418762, 80.12309281484869, 80.12309281486273, 80.123092814852455, 83.264214704088644, 83.264214704088658, 83.264214704092609, 86.405370811687916, 86.405370811688556, 86.405370811688542, 89.546557538249189, 89.546557538249189, 89.546557538249331, 92.687771772022458, 92.687771772016873, 92.687771772017001, 95.829010809019479, 95.829010808997751, 95.829010809020176, 98.970272288395691]\n",
      "[-2.0287578381104341, -2.028757838110236, 2.0287578381104185, 2.0287578381104341, 4.9131804394348828, 4.9131804394345435, 4.9131804394348837, 7.9786657124135001, 7.978665712413247, 7.9786657124132407, 11.085538406497022, 11.085538406497246, 11.0855384064975, 14.207436725191188, 17.336377923983356, 17.33637792398337, 17.33637792398336, 20.469167402740414, 20.46916740274095, 20.469167402740954, 23.604284772980371, 23.604284772980407, 26.74091601478731, 26.740916014786006, 29.878586506107379, 29.878586506107393, 33.01700103335709, 33.017001033357218, 33.017001033357253, 36.155966419536718, 36.155966419540306, 39.295350981472986, 39.295350981472993, 42.435061881407208, 42.435061881409887, 45.575031795590021, 45.575031795590426, 48.715210717557724, 48.715210717556943, 51.855560729151961, 51.855560729151968, 51.855560729153574, 54.9960525574961, 54.996052557496391, 54.996052557496398, 58.136663244895544, 58.136663244899161, 58.136663244901094, 61.277374533569656, 61.277374533569663, 61.277374533574232, 64.418171721837695, 64.418171721839158, 67.559042838808395, 67.55904283880858, 70.699978038609999, 70.6999780386097, 73.840969149020907, 73.840969149021817, 76.982009330403741, 76.98200933041872, 76.982009330418762, 80.12309281484869, 80.12309281486273, 80.123092814852455, 83.264214704088644, 83.264214704088658, 83.264214704092609, 86.405370811687916, 86.405370811688556, 86.405370811688542, 89.546557538249189, 89.546557538249331, 92.687771772022458, 92.687771772016873, 92.687771772017001, 95.829010809019479, 95.829010808997751, 95.829010809020176, 98.970272288395691]\n"
     ]
    }
   ],
   "source": [
    "import numpy as np\n",
    "import math\n",
    "from scipy.optimize import root\n",
    "\n",
    "def func_cos(x, c):\n",
    "    return np.cos(x) / x - c\n",
    "\n",
    "#crange = range(1, 11)\n",
    "\n",
    "#res = [root(func_cos, 0.5, args=(ci, )).x[0] for ci in crange]\n",
    "#print(res)\n",
    "\n",
    "\n",
    "def transcedental_equation(x):\n",
    "    return x *(1/math.tan(x*b)) + K\n",
    "\n",
    "     \n",
    "nrange = range(1, 100)\n",
    "\n",
    "#root(fun, x0, args=(), method='hybr', jac=None, tol=None, callback=None, options=None)[source]\n",
    "#res = [root(transcedental_equation, 10,  args=(ni, )).x[0] for ni in nrange]\n",
    "#print(res)\n",
    "solution = []\n",
    "for i in nrange:\n",
    "    j = root(transcedental_equation, (i-0.5*math.pi)).x[0]\n",
    "    solution.append(j)\n",
    "    #print(root(transcedental_equation, (i-0.5*math.pi)).x[0])\n",
    "\n",
    "print(solution)    \n",
    "\n",
    "cleanlist = []\n",
    "[cleanlist.append(x) for x in solution if x not in cleanlist]\n",
    "print(cleanlist)\n",
    "#print(root(transcedental_equation, (2-0.5)*math.pi, args=(1.0, )).x[0])\n",
    "#print(root(transcedental_equation, (3-0.5)*math.pi, args=(1.0, )).x[0])\n"
   ]
  },
  {
   "cell_type": "code",
   "execution_count": null,
   "metadata": {
    "collapsed": true
   },
   "outputs": [],
   "source": []
  }
 ],
 "metadata": {
  "kernelspec": {
   "display_name": "Python 3",
   "language": "python",
   "name": "python3"
  },
  "language_info": {
   "codemirror_mode": {
    "name": "ipython",
    "version": 3
   },
   "file_extension": ".py",
   "mimetype": "text/x-python",
   "name": "python",
   "nbconvert_exporter": "python",
   "pygments_lexer": "ipython3",
   "version": "3.6.1"
  }
 },
 "nbformat": 4,
 "nbformat_minor": 2
}
